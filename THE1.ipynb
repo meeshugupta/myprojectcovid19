{
 "cells": [
  {
   "cell_type": "code",
   "execution_count": 1,
   "metadata": {},
   "outputs": [],
   "source": [
    "state_names=[\"Andaman and Nicobar Islands\",\"Andhra Pradesh\",\"Arunachal Pradesh\",\"Assam\",\"Bihar\",\"Chandigarh\",\"Chhattisgarh\",\"Dadar Nagar Haveli\",\"Dadar Nagar Haveli and Daman and Diu\",\"Daman & Diu\",\"Delhi\",\"Goa\",\"Gujarat\",\"Haryana\",\"Himachal Pradesh\",\"Jammu and Kashmir\",\"Jharkhand\",\"Karnataka\",\"Kerala\",\"Ladakh\",\"Madhya Pradesh\",\"Maharashtra\",\"Manipur\",\"Meghalaya\",\"Mizoram\",\"Nagaland\",\"Odisha\",\"Puducherry\",\"Punjab\",\"Rajasthan\",\"Sikkim\",\"Tamil Nadu\",\"Telangana\",\"Tripura\",\"Uttar Pradesh\",\"Uttarakhand\",\"West Bengal\"]       #state wise list"
   ]
  },
  {
   "cell_type": "code",
   "execution_count": 2,
   "metadata": {},
   "outputs": [],
   "source": [
    "states_infected=[8,81,0,0,32,0,50,25,0,0,0,352,9,256,111,21,95,0,405,1091,162,105,1111,5,0,4,0,23,11,231,296,0,138,0,246,0,0,462,35,71]              #state wise list of infected"
   ]
  },
  {
   "cell_type": "code",
   "execution_count": 3,
   "metadata": {},
   "outputs": [],
   "source": [
    "tuple_states_recovered=(2406,172711,673,85791,168614,0,12453,37314,14,721,0,1010544,6940,705970,172637,13605,107930,38313,166272,66566,7847,337131,2223864,7005,1187,693,2843,111741,4214,117984,431649,562,1103994,93926,50222,20728,0,393201,41613,246391)    #state wise recovered with tuple"
   ]
  },
  {
   "cell_type": "code",
   "execution_count": 4,
   "metadata": {},
   "outputs": [
    {
     "ename": "AttributeError",
     "evalue": "'tuple' object has no attribute 'sort'",
     "output_type": "error",
     "traceback": [
      "\u001b[1;31m---------------------------------------------------------------------------\u001b[0m",
      "\u001b[1;31mAttributeError\u001b[0m                            Traceback (most recent call last)",
      "\u001b[1;32m<ipython-input-4-16f965b04016>\u001b[0m in \u001b[0;36m<module>\u001b[1;34m\u001b[0m\n\u001b[1;32m----> 1\u001b[1;33m \u001b[0mtuple_states_recovered\u001b[0m\u001b[1;33m.\u001b[0m\u001b[0msort\u001b[0m\u001b[1;33m(\u001b[0m\u001b[1;33m)\u001b[0m\u001b[1;33m\u001b[0m\u001b[1;33m\u001b[0m\u001b[0m\n\u001b[0m",
      "\u001b[1;31mAttributeError\u001b[0m: 'tuple' object has no attribute 'sort'"
     ]
    }
   ],
   "source": [
    "tuple_states_recovered.sort() # see in tuple are immutable "
   ]
  },
  {
   "cell_type": "code",
   "execution_count": 5,
   "metadata": {},
   "outputs": [],
   "source": [
    "state_dictionary={\"Andaman and Nicobar Islands\":8,\"Andhra Pradesh\":81,\"Arunachal Pradesh\":0,\"Assam\":0,\"Bihar\":32,\"Chandigarh\":50,\"Chhattisgarh\":25,\"Dadar Nagar Haveli\":0,\"Dadar Nagar Haveli and Daman and Diu\":0,\"Daman & Diu\":0,\"Delhi\":352,\"Goa\":9,\"Gujarat\":256,\"Haryana\":111,\"Himachal Pradesh\":21,\"Jammu and Kashmir\":95,\"Jharkhand\":0,\"Karnataka\":405,\"Kerala\":1091,\"Ladakh\":162,\"Madhya Pradesh\":105,\"Maharashtra\":1111,\"Manipur\":5,\"Meghalaya\":0,\"Mizoram\":4,\"Nagaland\":0,\"Odisha\":23,\"Puducherry\":11,\"Punjab\":231,\"Rajasthan\":296,\"Sikkim\":0,\"Tamil Nadu\":138,\"Telangana\":0,\"Tripura\":0,\"Uttar Pradesh\":462,\"Uttarakhand\":35,\"West Bengal\":71}   # dictionary state wise infected "
   ]
  },
  {
   "cell_type": "code",
   "execution_count": 6,
   "metadata": {},
   "outputs": [
    {
     "data": {
      "text/plain": [
       "dict_keys(['Andaman and Nicobar Islands', 'Andhra Pradesh', 'Arunachal Pradesh', 'Assam', 'Bihar', 'Chandigarh', 'Chhattisgarh', 'Dadar Nagar Haveli', 'Dadar Nagar Haveli and Daman and Diu', 'Daman & Diu', 'Delhi', 'Goa', 'Gujarat', 'Haryana', 'Himachal Pradesh', 'Jammu and Kashmir', 'Jharkhand', 'Karnataka', 'Kerala', 'Ladakh', 'Madhya Pradesh', 'Maharashtra', 'Manipur', 'Meghalaya', 'Mizoram', 'Nagaland', 'Odisha', 'Puducherry', 'Punjab', 'Rajasthan', 'Sikkim', 'Tamil Nadu', 'Telangana', 'Tripura', 'Uttar Pradesh', 'Uttarakhand', 'West Bengal'])"
      ]
     },
     "execution_count": 6,
     "metadata": {},
     "output_type": "execute_result"
    }
   ],
   "source": [
    "state_dictionary.keys()"
   ]
  },
  {
   "cell_type": "code",
   "execution_count": 9,
   "metadata": {},
   "outputs": [
    {
     "data": {
      "text/plain": [
       "dict_items([('Andaman and Nicobar Islands', 8), ('Andhra Pradesh', 81), ('Arunachal Pradesh', 0), ('Assam', 0), ('Bihar', 32), ('Chandigarh', 50), ('Chhattisgarh', 25), ('Dadar Nagar Haveli', 0), ('Dadar Nagar Haveli and Daman and Diu', 0), ('Daman & Diu', 0), ('Delhi', 352), ('Goa', 9), ('Gujarat', 256), ('Haryana', 111), ('Himachal Pradesh', 21), ('Jammu and Kashmir', 95), ('Jharkhand', 0), ('Karnataka', 405), ('Kerala', 1091), ('Ladakh', 162), ('Madhya Pradesh', 105), ('Maharashtra', 1111), ('Manipur', 5), ('Meghalaya', 0), ('Mizoram', 4), ('Nagaland', 0), ('Odisha', 23), ('Puducherry', 11), ('Punjab', 231), ('Rajasthan', 296), ('Sikkim', 0), ('Tamil Nadu', 138), ('Telangana', 0), ('Tripura', 0), ('Uttar Pradesh', 462), ('Uttarakhand', 35), ('West Bengal', 71)])"
      ]
     },
     "execution_count": 9,
     "metadata": {},
     "output_type": "execute_result"
    }
   ],
   "source": [
    "state_dictionary.items()"
   ]
  },
  {
   "cell_type": "code",
   "execution_count": 8,
   "metadata": {},
   "outputs": [
    {
     "data": {
      "text/plain": [
       "dict_values([8, 81, 0, 0, 32, 50, 25, 0, 0, 0, 352, 9, 256, 111, 21, 95, 0, 405, 1091, 162, 105, 1111, 5, 0, 4, 0, 23, 11, 231, 296, 0, 138, 0, 0, 462, 35, 71])"
      ]
     },
     "execution_count": 8,
     "metadata": {},
     "output_type": "execute_result"
    }
   ],
   "source": [
    "state_dictionary.values()"
   ]
  },
  {
   "cell_type": "code",
   "execution_count": 10,
   "metadata": {},
   "outputs": [],
   "source": [
    "state_names.sort()"
   ]
  },
  {
   "cell_type": "code",
   "execution_count": 11,
   "metadata": {},
   "outputs": [
    {
     "name": "stdout",
     "output_type": "stream",
     "text": [
      "['Andaman and Nicobar Islands', 'Andhra Pradesh', 'Arunachal Pradesh', 'Assam', 'Bihar', 'Chandigarh', 'Chhattisgarh', 'Dadar Nagar Haveli', 'Dadar Nagar Haveli and Daman and Diu', 'Daman & Diu', 'Delhi', 'Goa', 'Gujarat', 'Haryana', 'Himachal Pradesh', 'Jammu and Kashmir', 'Jharkhand', 'Karnataka', 'Kerala', 'Ladakh', 'Madhya Pradesh', 'Maharashtra', 'Manipur', 'Meghalaya', 'Mizoram', 'Nagaland', 'Odisha', 'Puducherry', 'Punjab', 'Rajasthan', 'Sikkim', 'Tamil Nadu', 'Telangana', 'Tripura', 'Uttar Pradesh', 'Uttarakhand', 'West Bengal']\n"
     ]
    }
   ],
   "source": [
    "print(state_names)"
   ]
  },
  {
   "cell_type": "code",
   "execution_count": 12,
   "metadata": {},
   "outputs": [
    {
     "name": "stdout",
     "output_type": "stream",
     "text": [
      "sorted state_names: ['Andaman and Nicobar Islands', 'Andhra Pradesh', 'Arunachal Pradesh', 'Assam', 'Bihar', 'Chandigarh', 'Chhattisgarh', 'Dadar Nagar Haveli', 'Dadar Nagar Haveli and Daman and Diu', 'Daman & Diu', 'Delhi', 'Goa', 'Gujarat', 'Haryana', 'Himachal Pradesh', 'Jammu and Kashmir', 'Jharkhand', 'Karnataka', 'Kerala', 'Ladakh', 'Madhya Pradesh', 'Maharashtra', 'Manipur', 'Meghalaya', 'Mizoram', 'Nagaland', 'Odisha', 'Puducherry', 'Punjab', 'Rajasthan', 'Sikkim', 'Tamil Nadu', 'Telangana', 'Tripura', 'Uttar Pradesh', 'Uttarakhand', 'West Bengal']\n"
     ]
    }
   ],
   "source": [
    "print(\"sorted state_names:\",state_names)"
   ]
  },
  {
   "cell_type": "code",
   "execution_count": null,
   "metadata": {},
   "outputs": [],
   "source": []
  }
 ],
 "metadata": {
  "kernelspec": {
   "display_name": "Python 3",
   "language": "python",
   "name": "python3"
  },
  "language_info": {
   "codemirror_mode": {
    "name": "ipython",
    "version": 3
   },
   "file_extension": ".py",
   "mimetype": "text/x-python",
   "name": "python",
   "nbconvert_exporter": "python",
   "pygments_lexer": "ipython3",
   "version": "3.7.6"
  }
 },
 "nbformat": 4,
 "nbformat_minor": 4
}
